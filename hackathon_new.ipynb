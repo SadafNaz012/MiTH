{
 "cells": [
  {
   "cell_type": "code",
   "execution_count": 96,
   "metadata": {
    "id": "E8bskrRe6nUy"
   },
   "outputs": [],
   "source": [
    "import pandas as pd\n",
    "import matplotlib.pyplot as plt\n",
    "import seaborn as sns\n",
    "import numpy as np\n",
    "\n",
    "from sklearn.model_selection import train_test_split\n",
    "from sklearn.preprocessing import LabelEncoder \n",
    "from sklearn.preprocessing import StandardScaler\n",
    "from sklearn.linear_model import LogisticRegression\n",
    "from sklearn.metrics import f1_score\n",
    "\n",
    "import warnings\n",
    "warnings.filterwarnings('ignore')\n",
    "%matplotlib inline"
   ]
  },
  {
   "cell_type": "code",
   "execution_count": 97,
   "metadata": {
    "colab": {
     "base_uri": "https://localhost:8080/",
     "height": 661
    },
    "id": "YvCVhJoo9syV",
    "outputId": "732da69d-561c-474d-e339-595a80c142f1"
   },
   "outputs": [
    {
     "data": {
      "text/html": [
       "<div>\n",
       "<style scoped>\n",
       "    .dataframe tbody tr th:only-of-type {\n",
       "        vertical-align: middle;\n",
       "    }\n",
       "\n",
       "    .dataframe tbody tr th {\n",
       "        vertical-align: top;\n",
       "    }\n",
       "\n",
       "    .dataframe thead th {\n",
       "        text-align: right;\n",
       "    }\n",
       "</style>\n",
       "<table border=\"1\" class=\"dataframe\">\n",
       "  <thead>\n",
       "    <tr style=\"text-align: right;\">\n",
       "      <th></th>\n",
       "      <th>index</th>\n",
       "      <th>encounter_id</th>\n",
       "      <th>patient_id</th>\n",
       "      <th>race</th>\n",
       "      <th>gender</th>\n",
       "      <th>age</th>\n",
       "      <th>weight</th>\n",
       "      <th>time_in_hospital</th>\n",
       "      <th>medical_specialty</th>\n",
       "      <th>num_lab_procedures</th>\n",
       "      <th>...</th>\n",
       "      <th>X19</th>\n",
       "      <th>X20</th>\n",
       "      <th>X21</th>\n",
       "      <th>X22</th>\n",
       "      <th>X23</th>\n",
       "      <th>X24</th>\n",
       "      <th>X25</th>\n",
       "      <th>change</th>\n",
       "      <th>diabetesMed</th>\n",
       "      <th>readmitted</th>\n",
       "    </tr>\n",
       "  </thead>\n",
       "  <tbody>\n",
       "    <tr>\n",
       "      <th>0</th>\n",
       "      <td>69375</td>\n",
       "      <td>197029140</td>\n",
       "      <td>51521940</td>\n",
       "      <td>Hispanic</td>\n",
       "      <td>Male</td>\n",
       "      <td>[80-90)</td>\n",
       "      <td>NaN</td>\n",
       "      <td>4</td>\n",
       "      <td>Emergency/Trauma</td>\n",
       "      <td>39</td>\n",
       "      <td>...</td>\n",
       "      <td>No</td>\n",
       "      <td>No</td>\n",
       "      <td>No</td>\n",
       "      <td>No</td>\n",
       "      <td>No</td>\n",
       "      <td>No</td>\n",
       "      <td>No</td>\n",
       "      <td>No</td>\n",
       "      <td>Yes</td>\n",
       "      <td>1</td>\n",
       "    </tr>\n",
       "    <tr>\n",
       "      <th>1</th>\n",
       "      <td>57272</td>\n",
       "      <td>163571946</td>\n",
       "      <td>92631357</td>\n",
       "      <td>Caucasian</td>\n",
       "      <td>Male</td>\n",
       "      <td>[60-70)</td>\n",
       "      <td>NaN</td>\n",
       "      <td>3</td>\n",
       "      <td>Emergency/Trauma</td>\n",
       "      <td>34</td>\n",
       "      <td>...</td>\n",
       "      <td>No</td>\n",
       "      <td>No</td>\n",
       "      <td>No</td>\n",
       "      <td>No</td>\n",
       "      <td>No</td>\n",
       "      <td>No</td>\n",
       "      <td>No</td>\n",
       "      <td>No</td>\n",
       "      <td>No</td>\n",
       "      <td>0</td>\n",
       "    </tr>\n",
       "    <tr>\n",
       "      <th>2</th>\n",
       "      <td>82347</td>\n",
       "      <td>256497366</td>\n",
       "      <td>30023982</td>\n",
       "      <td>Caucasian</td>\n",
       "      <td>Female</td>\n",
       "      <td>[50-60)</td>\n",
       "      <td>NaN</td>\n",
       "      <td>6</td>\n",
       "      <td>Nephrology</td>\n",
       "      <td>50</td>\n",
       "      <td>...</td>\n",
       "      <td>No</td>\n",
       "      <td>Down</td>\n",
       "      <td>No</td>\n",
       "      <td>No</td>\n",
       "      <td>No</td>\n",
       "      <td>No</td>\n",
       "      <td>No</td>\n",
       "      <td>Ch</td>\n",
       "      <td>Yes</td>\n",
       "      <td>1</td>\n",
       "    </tr>\n",
       "    <tr>\n",
       "      <th>3</th>\n",
       "      <td>89608</td>\n",
       "      <td>289891212</td>\n",
       "      <td>93606021</td>\n",
       "      <td>AfricanAmerican</td>\n",
       "      <td>Female</td>\n",
       "      <td>[70-80)</td>\n",
       "      <td>NaN</td>\n",
       "      <td>5</td>\n",
       "      <td>NaN</td>\n",
       "      <td>63</td>\n",
       "      <td>...</td>\n",
       "      <td>No</td>\n",
       "      <td>Down</td>\n",
       "      <td>No</td>\n",
       "      <td>No</td>\n",
       "      <td>No</td>\n",
       "      <td>No</td>\n",
       "      <td>No</td>\n",
       "      <td>Ch</td>\n",
       "      <td>Yes</td>\n",
       "      <td>1</td>\n",
       "    </tr>\n",
       "    <tr>\n",
       "      <th>4</th>\n",
       "      <td>24091</td>\n",
       "      <td>81873900</td>\n",
       "      <td>23464296</td>\n",
       "      <td>Caucasian</td>\n",
       "      <td>Male</td>\n",
       "      <td>[70-80)</td>\n",
       "      <td>NaN</td>\n",
       "      <td>9</td>\n",
       "      <td>Psychiatry</td>\n",
       "      <td>17</td>\n",
       "      <td>...</td>\n",
       "      <td>No</td>\n",
       "      <td>No</td>\n",
       "      <td>No</td>\n",
       "      <td>No</td>\n",
       "      <td>No</td>\n",
       "      <td>No</td>\n",
       "      <td>No</td>\n",
       "      <td>No</td>\n",
       "      <td>No</td>\n",
       "      <td>1</td>\n",
       "    </tr>\n",
       "    <tr>\n",
       "      <th>...</th>\n",
       "      <td>...</td>\n",
       "      <td>...</td>\n",
       "      <td>...</td>\n",
       "      <td>...</td>\n",
       "      <td>...</td>\n",
       "      <td>...</td>\n",
       "      <td>...</td>\n",
       "      <td>...</td>\n",
       "      <td>...</td>\n",
       "      <td>...</td>\n",
       "      <td>...</td>\n",
       "      <td>...</td>\n",
       "      <td>...</td>\n",
       "      <td>...</td>\n",
       "      <td>...</td>\n",
       "      <td>...</td>\n",
       "      <td>...</td>\n",
       "      <td>...</td>\n",
       "      <td>...</td>\n",
       "      <td>...</td>\n",
       "      <td>...</td>\n",
       "    </tr>\n",
       "    <tr>\n",
       "      <th>66582</th>\n",
       "      <td>39934</td>\n",
       "      <td>124202466</td>\n",
       "      <td>23450508</td>\n",
       "      <td>Caucasian</td>\n",
       "      <td>Female</td>\n",
       "      <td>[70-80)</td>\n",
       "      <td>NaN</td>\n",
       "      <td>11</td>\n",
       "      <td>InternalMedicine</td>\n",
       "      <td>40</td>\n",
       "      <td>...</td>\n",
       "      <td>No</td>\n",
       "      <td>Steady</td>\n",
       "      <td>No</td>\n",
       "      <td>No</td>\n",
       "      <td>No</td>\n",
       "      <td>No</td>\n",
       "      <td>No</td>\n",
       "      <td>No</td>\n",
       "      <td>Yes</td>\n",
       "      <td>0</td>\n",
       "    </tr>\n",
       "    <tr>\n",
       "      <th>66583</th>\n",
       "      <td>47366</td>\n",
       "      <td>145667070</td>\n",
       "      <td>29324601</td>\n",
       "      <td>Caucasian</td>\n",
       "      <td>Male</td>\n",
       "      <td>[80-90)</td>\n",
       "      <td>NaN</td>\n",
       "      <td>4</td>\n",
       "      <td>NaN</td>\n",
       "      <td>39</td>\n",
       "      <td>...</td>\n",
       "      <td>No</td>\n",
       "      <td>No</td>\n",
       "      <td>No</td>\n",
       "      <td>No</td>\n",
       "      <td>No</td>\n",
       "      <td>No</td>\n",
       "      <td>No</td>\n",
       "      <td>No</td>\n",
       "      <td>No</td>\n",
       "      <td>1</td>\n",
       "    </tr>\n",
       "    <tr>\n",
       "      <th>66584</th>\n",
       "      <td>76555</td>\n",
       "      <td>231061116</td>\n",
       "      <td>2179062</td>\n",
       "      <td>Caucasian</td>\n",
       "      <td>Female</td>\n",
       "      <td>[60-70)</td>\n",
       "      <td>NaN</td>\n",
       "      <td>2</td>\n",
       "      <td>NaN</td>\n",
       "      <td>24</td>\n",
       "      <td>...</td>\n",
       "      <td>No</td>\n",
       "      <td>No</td>\n",
       "      <td>No</td>\n",
       "      <td>No</td>\n",
       "      <td>No</td>\n",
       "      <td>No</td>\n",
       "      <td>No</td>\n",
       "      <td>No</td>\n",
       "      <td>Yes</td>\n",
       "      <td>1</td>\n",
       "    </tr>\n",
       "    <tr>\n",
       "      <th>66585</th>\n",
       "      <td>25392</td>\n",
       "      <td>84911682</td>\n",
       "      <td>20531754</td>\n",
       "      <td>NaN</td>\n",
       "      <td>Female</td>\n",
       "      <td>[80-90)</td>\n",
       "      <td>NaN</td>\n",
       "      <td>4</td>\n",
       "      <td>InternalMedicine</td>\n",
       "      <td>39</td>\n",
       "      <td>...</td>\n",
       "      <td>No</td>\n",
       "      <td>No</td>\n",
       "      <td>No</td>\n",
       "      <td>No</td>\n",
       "      <td>No</td>\n",
       "      <td>No</td>\n",
       "      <td>No</td>\n",
       "      <td>No</td>\n",
       "      <td>No</td>\n",
       "      <td>0</td>\n",
       "    </tr>\n",
       "    <tr>\n",
       "      <th>66586</th>\n",
       "      <td>51312</td>\n",
       "      <td>153167502</td>\n",
       "      <td>81985473</td>\n",
       "      <td>Caucasian</td>\n",
       "      <td>Female</td>\n",
       "      <td>[80-90)</td>\n",
       "      <td>NaN</td>\n",
       "      <td>2</td>\n",
       "      <td>NaN</td>\n",
       "      <td>38</td>\n",
       "      <td>...</td>\n",
       "      <td>No</td>\n",
       "      <td>Steady</td>\n",
       "      <td>No</td>\n",
       "      <td>No</td>\n",
       "      <td>No</td>\n",
       "      <td>No</td>\n",
       "      <td>No</td>\n",
       "      <td>Ch</td>\n",
       "      <td>Yes</td>\n",
       "      <td>1</td>\n",
       "    </tr>\n",
       "  </tbody>\n",
       "</table>\n",
       "<p>66587 rows × 49 columns</p>\n",
       "</div>"
      ],
      "text/plain": [
       "       index  encounter_id  patient_id             race  gender      age  \\\n",
       "0      69375     197029140    51521940         Hispanic    Male  [80-90)   \n",
       "1      57272     163571946    92631357        Caucasian    Male  [60-70)   \n",
       "2      82347     256497366    30023982        Caucasian  Female  [50-60)   \n",
       "3      89608     289891212    93606021  AfricanAmerican  Female  [70-80)   \n",
       "4      24091      81873900    23464296        Caucasian    Male  [70-80)   \n",
       "...      ...           ...         ...              ...     ...      ...   \n",
       "66582  39934     124202466    23450508        Caucasian  Female  [70-80)   \n",
       "66583  47366     145667070    29324601        Caucasian    Male  [80-90)   \n",
       "66584  76555     231061116     2179062        Caucasian  Female  [60-70)   \n",
       "66585  25392      84911682    20531754              NaN  Female  [80-90)   \n",
       "66586  51312     153167502    81985473        Caucasian  Female  [80-90)   \n",
       "\n",
       "      weight  time_in_hospital medical_specialty  num_lab_procedures  ...  \\\n",
       "0        NaN                 4  Emergency/Trauma                  39  ...   \n",
       "1        NaN                 3  Emergency/Trauma                  34  ...   \n",
       "2        NaN                 6        Nephrology                  50  ...   \n",
       "3        NaN                 5               NaN                  63  ...   \n",
       "4        NaN                 9        Psychiatry                  17  ...   \n",
       "...      ...               ...               ...                 ...  ...   \n",
       "66582    NaN                11  InternalMedicine                  40  ...   \n",
       "66583    NaN                 4               NaN                  39  ...   \n",
       "66584    NaN                 2               NaN                  24  ...   \n",
       "66585    NaN                 4  InternalMedicine                  39  ...   \n",
       "66586    NaN                 2               NaN                  38  ...   \n",
       "\n",
       "       X19     X20  X21  X22  X23 X24 X25 change diabetesMed  readmitted  \n",
       "0       No      No   No   No   No  No  No     No         Yes           1  \n",
       "1       No      No   No   No   No  No  No     No          No           0  \n",
       "2       No    Down   No   No   No  No  No     Ch         Yes           1  \n",
       "3       No    Down   No   No   No  No  No     Ch         Yes           1  \n",
       "4       No      No   No   No   No  No  No     No          No           1  \n",
       "...    ...     ...  ...  ...  ...  ..  ..    ...         ...         ...  \n",
       "66582   No  Steady   No   No   No  No  No     No         Yes           0  \n",
       "66583   No      No   No   No   No  No  No     No          No           1  \n",
       "66584   No      No   No   No   No  No  No     No         Yes           1  \n",
       "66585   No      No   No   No   No  No  No     No          No           0  \n",
       "66586   No  Steady   No   No   No  No  No     Ch         Yes           1  \n",
       "\n",
       "[66587 rows x 49 columns]"
      ]
     },
     "execution_count": 97,
     "metadata": {},
     "output_type": "execute_result"
    }
   ],
   "source": [
    "df = pd.read_csv('Train-1617360447408-1660719685476.csv', na_values=['?'])\n",
    "df"
   ]
  },
  {
   "cell_type": "code",
   "execution_count": 98,
   "metadata": {
    "colab": {
     "base_uri": "https://localhost:8080/"
    },
    "id": "Jvav5FaO-BQV",
    "outputId": "82b1d607-5139-46a4-f252-1414a44ad6b4"
   },
   "outputs": [
    {
     "name": "stdout",
     "output_type": "stream",
     "text": [
      "(66587, 49)\n",
      "Index(['index', 'encounter_id', 'patient_id', 'race', 'gender', 'age',\n",
      "       'weight', 'time_in_hospital', 'medical_specialty', 'num_lab_procedures',\n",
      "       'num_procedures', 'num_medications', 'number_outpatient',\n",
      "       'number_emergency', 'number_inpatient', 'diag_1', 'diag_2', 'diag_3',\n",
      "       'diag_4', 'diag_5', 'number_diagnoses', 'X1', 'X2', 'X3', 'X4', 'X5',\n",
      "       'X6', 'X7', 'X8', 'X9', 'X10', 'X11', 'X12', 'X13', 'X14', 'X15', 'X16',\n",
      "       'X17', 'X18', 'X19', 'X20', 'X21', 'X22', 'X23', 'X24', 'X25', 'change',\n",
      "       'diabetesMed', 'readmitted'],\n",
      "      dtype='object')\n"
     ]
    }
   ],
   "source": [
    "print(df.shape)\n",
    "print(df.columns)"
   ]
  },
  {
   "cell_type": "code",
   "execution_count": 99,
   "metadata": {
    "colab": {
     "base_uri": "https://localhost:8080/"
    },
    "id": "gbKoRhWI-Hlz",
    "outputId": "406cbe03-163c-4ce0-d48b-aa0a76f77bb2"
   },
   "outputs": [
    {
     "name": "stdout",
     "output_type": "stream",
     "text": [
      "48911\n",
      "39650\n"
     ]
    }
   ],
   "source": [
    "print(len(df['encounter_id'].unique()))\n",
    "print(len(df['patient_id'].unique()))\n"
   ]
  },
  {
   "cell_type": "code",
   "execution_count": 100,
   "metadata": {
    "colab": {
     "base_uri": "https://localhost:8080/"
    },
    "id": "V41sb3wH-PRG",
    "outputId": "b9813d8d-2c46-4385-86f6-d4fc65d7f9da"
   },
   "outputs": [
    {
     "data": {
      "text/plain": [
       "index                     0\n",
       "encounter_id              0\n",
       "patient_id                0\n",
       "race                   1504\n",
       "gender                    0\n",
       "age                       0\n",
       "weight                64454\n",
       "time_in_hospital          0\n",
       "medical_specialty     32672\n",
       "num_lab_procedures        0\n",
       "num_procedures            0\n",
       "num_medications           0\n",
       "number_outpatient         0\n",
       "number_emergency          0\n",
       "number_inpatient          0\n",
       "diag_1                   15\n",
       "diag_2                  231\n",
       "diag_3                  954\n",
       "diag_4                  954\n",
       "diag_5                    0\n",
       "number_diagnoses          0\n",
       "X1                        0\n",
       "X2                        0\n",
       "X3                        0\n",
       "X4                        0\n",
       "X5                        0\n",
       "X6                        0\n",
       "X7                        0\n",
       "X8                        0\n",
       "X9                        0\n",
       "X10                       0\n",
       "X11                       0\n",
       "X12                       0\n",
       "X13                       0\n",
       "X14                       0\n",
       "X15                       0\n",
       "X16                       0\n",
       "X17                       0\n",
       "X18                       0\n",
       "X19                       0\n",
       "X20                       0\n",
       "X21                       0\n",
       "X22                       0\n",
       "X23                       0\n",
       "X24                       0\n",
       "X25                       0\n",
       "change                    0\n",
       "diabetesMed               0\n",
       "readmitted                0\n",
       "dtype: int64"
      ]
     },
     "execution_count": 100,
     "metadata": {},
     "output_type": "execute_result"
    }
   ],
   "source": [
    "df.isnull().sum()"
   ]
  },
  {
   "cell_type": "code",
   "execution_count": 101,
   "metadata": {
    "colab": {
     "base_uri": "https://localhost:8080/",
     "height": 165
    },
    "id": "UcHHzGBN-13X",
    "outputId": "ee066197-48b8-4598-cf15-c3b502b59fa7"
   },
   "outputs": [],
   "source": [
    "df=df.drop([\"weight\",\"medical_specialty\"],axis=1)\n"
   ]
  },
  {
   "cell_type": "code",
   "execution_count": 102,
   "metadata": {
    "colab": {
     "base_uri": "https://localhost:8080/"
    },
    "id": "1lna2Hjq-vKG",
    "outputId": "d4a08f3c-91da-49e3-8181-4c84ca5a41e6"
   },
   "outputs": [],
   "source": [
    "df = df.replace('?', np.nan)"
   ]
  },
  {
   "cell_type": "code",
   "execution_count": 103,
   "metadata": {
    "colab": {
     "base_uri": "https://localhost:8080/"
    },
    "id": "dm8MULnN_NDZ",
    "outputId": "8d3d7c1e-6496-4736-fb19-09ed0a2ae051"
   },
   "outputs": [
    {
     "data": {
      "text/plain": [
       "index                    0\n",
       "encounter_id             0\n",
       "patient_id               0\n",
       "race                  1504\n",
       "gender                   0\n",
       "age                      0\n",
       "time_in_hospital         0\n",
       "num_lab_procedures       0\n",
       "num_procedures           0\n",
       "num_medications          0\n",
       "number_outpatient        0\n",
       "number_emergency         0\n",
       "number_inpatient         0\n",
       "diag_1                  15\n",
       "diag_2                 231\n",
       "diag_3                 954\n",
       "diag_4                 954\n",
       "diag_5                   0\n",
       "number_diagnoses         0\n",
       "X1                       0\n",
       "X2                       0\n",
       "X3                       0\n",
       "X4                       0\n",
       "X5                       0\n",
       "X6                       0\n",
       "X7                       0\n",
       "X8                       0\n",
       "X9                       0\n",
       "X10                      0\n",
       "X11                      0\n",
       "X12                      0\n",
       "X13                      0\n",
       "X14                      0\n",
       "X15                      0\n",
       "X16                      0\n",
       "X17                      0\n",
       "X18                      0\n",
       "X19                      0\n",
       "X20                      0\n",
       "X21                      0\n",
       "X22                      0\n",
       "X23                      0\n",
       "X24                      0\n",
       "X25                      0\n",
       "change                   0\n",
       "diabetesMed              0\n",
       "readmitted               0\n",
       "dtype: int64"
      ]
     },
     "execution_count": 103,
     "metadata": {},
     "output_type": "execute_result"
    }
   ],
   "source": [
    "df.isnull().sum()"
   ]
  },
  {
   "cell_type": "code",
   "execution_count": 104,
   "metadata": {},
   "outputs": [],
   "source": [
    "df = df.replace('Unknown/Invalid', np.nan)\n",
    "\n",
    "df['gender'] = df['gender'].fillna(df['gender'].mode()[0])#fill gender wit most freq occured gender in column"
   ]
  },
  {
   "cell_type": "code",
   "execution_count": 105,
   "metadata": {},
   "outputs": [
    {
     "data": {
      "text/plain": [
       "<AxesSubplot:xlabel='readmitted', ylabel='count'>"
      ]
     },
     "execution_count": 105,
     "metadata": {},
     "output_type": "execute_result"
    },
    {
     "data": {
      "image/png": "[encoded data removed]",
      "text/plain": [
       "<Figure size 432x288 with 1 Axes>"
      ]
     },
     "metadata": {
      "needs_background": "light"
     },
     "output_type": "display_data"
    }
   ],
   "source": [
    "sns.countplot(df['readmitted'], hue=df['race'])"
   ]
  },
  {
   "cell_type": "code",
   "execution_count": 106,
   "metadata": {},
   "outputs": [],
   "source": [
    "df['race'] = df['race'].fillna(df['race'].mode()[0])\n",
    "df['diag_1'] = df['diag_1'].fillna(0)\n",
    "df['diag_2'] = df['diag_2'].fillna(0)\n",
    "df['diag_3'] = df['diag_3'].fillna(0)\n",
    "df['diag_4'] = df['diag_4'].fillna(0)"
   ]
  },
  {
   "cell_type": "code",
   "execution_count": 108,
   "metadata": {},
   "outputs": [
    {
     "data": {
      "text/plain": [
       "<AxesSubplot:xlabel='age', ylabel='count'>"
      ]
     },
     "execution_count": 108,
     "metadata": {},
     "output_type": "execute_result"
    },
    {
     "data": {
      "image/png": "[encoded data removed]",
      "text/plain": [
       "<Figure size 432x288 with 1 Axes>"
      ]
     },
     "metadata": {
      "needs_background": "light"
     },
     "output_type": "display_data"
    }
   ],
   "source": [
    "sns.countplot(df['age'], hue=df['readmitted'])"
   ]
  },
  {
   "cell_type": "code",
   "execution_count": 109,
   "metadata": {},
   "outputs": [
    {
     "data": {
      "text/plain": [
       "<AxesSubplot:xlabel='readmitted', ylabel='count'>"
      ]
     },
     "execution_count": 109,
     "metadata": {},
     "output_type": "execute_result"
    },
    {
     "data": {
      "image/png": "[encoded data removed]",
      "text/plain": [
       "<Figure size 432x288 with 1 Axes>"
      ]
     },
     "metadata": {
      "needs_background": "light"
     },
     "output_type": "display_data"
    }
   ],
   "source": [
    "sns.countplot(df['readmitted'], hue=df['num_procedures'])"
   ]
  },
  {
   "cell_type": "code",
   "execution_count": 110,
   "metadata": {},
   "outputs": [
    {
     "data": {
      "text/plain": [
       "<AxesSubplot:xlabel='readmitted', ylabel='count'>"
      ]
     },
     "execution_count": 110,
     "metadata": {},
     "output_type": "execute_result"
    },
    {
     "data": {
      "image/png": "[encoded data removed]",
      "text/plain": [
       "<Figure size 432x288 with 1 Axes>"
      ]
     },
     "metadata": {
      "needs_background": "light"
     },
     "output_type": "display_data"
    }
   ],
   "source": [
    "sns.countplot(df['readmitted'], hue=df['diabetesMed'])"
   ]
  },
  {
   "cell_type": "code",
   "execution_count": 111,
   "metadata": {},
   "outputs": [
    {
     "data": {
      "text/plain": [
       "<AxesSubplot:xlabel='readmitted', ylabel='count'>"
      ]
     },
     "execution_count": 111,
     "metadata": {},
     "output_type": "execute_result"
    },
    {
     "data": {
      "image/png": "[encoded data removed]",
      "text/plain": [
       "<Figure size 432x288 with 1 Axes>"
      ]
     },
     "metadata": {
      "needs_background": "light"
     },
     "output_type": "display_data"
    }
   ],
   "source": [
    "sns.countplot(df['readmitted'], hue=df['change'])"
   ]
  },
  {
   "cell_type": "code",
   "execution_count": 112,
   "metadata": {},
   "outputs": [
    {
     "data": {
      "text/plain": [
       "<AxesSubplot:xlabel='readmitted', ylabel='count'>"
      ]
     },
     "execution_count": 112,
     "metadata": {},
     "output_type": "execute_result"
    },
    {
     "data": {
      "image/png": "[encoded data removed]",
      "text/plain": [
       "<Figure size 432x288 with 1 Axes>"
      ]
     },
     "metadata": {
      "needs_background": "light"
     },
     "output_type": "display_data"
    }
   ],
   "source": [
    "sns.countplot(df['readmitted'], hue=df['X1'])"
   ]
  },
  {
   "cell_type": "code",
   "execution_count": 113,
   "metadata": {},
   "outputs": [
    {
     "data": {
      "text/plain": [
       "<AxesSubplot:xlabel='readmitted', ylabel='count'>"
      ]
     },
     "execution_count": 113,
     "metadata": {},
     "output_type": "execute_result"
    },
    {
     "data": {
      "image/png": "[encoded data removed]",
      "text/plain": [
       "<Figure size 432x288 with 1 Axes>"
      ]
     },
     "metadata": {
      "needs_background": "light"
     },
     "output_type": "display_data"
    }
   ],
   "source": [
    "sns.countplot(df['readmitted'], hue=df['X20'])"
   ]
  },
  {
   "cell_type": "code",
   "execution_count": 107,
   "metadata": {},
   "outputs": [],
   "source": [
    "col_label = ['race', 'gender', 'age', 'X1',\n",
    "       'X2', 'X3', 'X4', 'X5', 'X6', 'X7', 'X8', 'X9', 'X10', 'X11', 'X12',\n",
    "       'X13', 'X14', 'X15', 'X16', 'X17', 'X18', 'X19', 'X20', 'X21', 'X22',\n",
    "       'X23', 'X24', 'X25', 'change', 'diabetesMed']\n"
   ]
  },
  {
   "cell_type": "code",
   "execution_count": 114,
   "metadata": {},
   "outputs": [],
   "source": [
    "LE = LabelEncoder()\n",
    "for i in col_label:\n",
    "    df[i]=LE.fit_transform(df[i])\n",
    "    \"\"\"Label Encoder performs the conversion of these labels of categorical data into a numeric format.\n",
    "    For example, if a dataset contains a variable ‘Gender’ with labels ‘Male’ and ‘Female’,\n",
    "    then the label encoder would convert these labels into a number format and the resultant outcome would be [0,1].\"\"\""
   ]
  },
  {
   "cell_type": "code",
   "execution_count": 115,
   "metadata": {},
   "outputs": [],
   "source": [
    "scaling_features = ['time_in_hospital', 'num_lab_procedures', 'num_procedures', 'num_medications', 'number_outpatient', 'number_emergency', 'number_inpatient', 'diag_5',\n",
    "'number_diagnoses']"
   ]
  },
  {
   "cell_type": "code",
   "execution_count": 116,
   "metadata": {},
   "outputs": [],
   "source": [
    "SS = StandardScaler()\n",
    "\n",
    "for i in scaling_features:\n",
    "    df[i] = SS.fit_transform(df[i].values.reshape(-1, 1))"
   ]
  },
  {
   "cell_type": "code",
   "execution_count": 117,
   "metadata": {},
   "outputs": [],
   "source": [
    "df=df.drop(['diag_1', 'diag_2', 'diag_3', 'diag_4'],axis=1)#axis = 1 refers to column and axis = 0 refers to rows"
   ]
  },
  {
   "cell_type": "code",
   "execution_count": 128,
   "metadata": {},
   "outputs": [],
   "source": [
    "X1 = df.drop(\"readmitted\", axis=1)\n",
    "Y1 = df[\"readmitted\"]\n",
    "X_train, X_test, y_train, y_test = train_test_split(X1, Y1, test_size=0.2, random_state=42, shuffle=True)\n",
    "\"\"\"test_size=0.2 wch means 20% is test data rest 80% is train data \"\"\""
   ]
  },
  {
   "cell_type": "code",
   "execution_count": 131,
   "metadata": {},
   "outputs": [
    {
     "name": "stdout",
     "output_type": "stream",
     "text": [
      "0.4105973813420622\n"
     ]
    }
   ],
   "source": [
    "lr = LogisticRegression()\n",
    "lr.fit(X_train, y_train)\n",
    "lr_pred = lr.predict(X_test)#to predict train data\n",
    "\n",
    "score = f1_score(y_test, lr_pred)#fbeta score is  a type of evaluation matrix\n",
    "print(score)"
   ]
  },
  {
   "cell_type": "code",
   "execution_count": null,
   "metadata": {},
   "outputs": [],
   "source": [
    "\"\"\"We need to split a dataset into train and test sets to evaluate how well our machine learning model performs.\n",
    "The train set is used to fit the model, the statistics of the train set are known.\n",
    "The second set is called the test data set, this set is solely used for predictions.\"\"\""
   ]
  }
 ],
 "metadata": {
  "colab": {
   "name": "Untitled6.ipynb",
   "provenance": []
  },
  "kernelspec": {
   "display_name": "Python 3 (ipykernel)",
   "language": "python",
   "name": "python3"
  },
  "language_info": {
   "codemirror_mode": {
    "name": "ipython",
    "version": 3
   },
   "file_extension": ".py",
   "mimetype": "text/x-python",
   "name": "python",
   "nbconvert_exporter": "python",
   "pygments_lexer": "ipython3",
   "version": "3.9.7"
  }
 },
 "nbformat": 4,
 "nbformat_minor": 1
}
